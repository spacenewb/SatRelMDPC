{
 "cells": [
  {
   "cell_type": "code",
   "execution_count": 1,
   "id": "a185ead5",
   "metadata": {},
   "outputs": [],
   "source": [
    "# Generate Data Vectors\n",
    "import numpy as np\n",
    "import matplotlib.pyplot as plt\n",
    "\n",
    "plot_kws = dict(linewidth=2)\n",
    "\n",
    "dt = 0.1\n",
    "\n",
    "times = np.arange(0, 10+dt, dt)\n",
    "param = np.sin(times)\n",
    "\n",
    "times_test = np.arange(10, 20+dt, dt)\n",
    "param_test = np.sin(times_test)\n",
    "n_test = len(times_test)"
   ]
  },
  {
   "cell_type": "code",
   "execution_count": 2,
   "id": "2b7c2dc1",
   "metadata": {},
   "outputs": [],
   "source": [
    "def paramforecast(param, times, n):\n",
    "    y0s = param[-3:-1]\n",
    "    H = times[-1] - times[-2]\n",
    "    N = len(param)\n",
    "    \n",
    "    def BD2(ys, h, H):\n",
    "        y_dot_next = ((ys[2] - 2*ys[1] + ys[0])/h**2)*H\n",
    "        return y_dot_next\n",
    "    \n",
    "    def BD1(ys, h):\n",
    "        y_dot = (ys[1] - ys[0])/h\n",
    "        return y_dot\n",
    "    \n",
    "    t = np.zeros((N+n))\n",
    "    y = np.zeros((N+n))\n",
    "    \n",
    "    y[0:N] = param\n",
    "    t[0:N] = times\n",
    "    t[N+1:N+n] = np.arange(times[N-1]+H, times[N-1]+n*H, H)\n",
    "    \n",
    "    \n",
    "    for i in np.arange(N, N+n-1, 1):\n",
    "        k1 = BD1(y[i-2:i], H)\n",
    "        k2 = BD2(y[i-3:i], H, H/2)\n",
    "        k3 = BD2(y[i-3:i], H, H/2)\n",
    "        k4 = BD2(y[i-3:i], H, H)\n",
    "        y[i+1] = y[i] + (H / 6.) * (k1 + 2*k2 + 2*k3 + k4)\n",
    "    return (y[N+1:N+n], t[N+1:N+n])"
   ]
  },
  {
   "cell_type": "code",
   "execution_count": 3,
   "id": "9df3d4af",
   "metadata": {},
   "outputs": [
    {
     "name": "stdout",
     "output_type": "stream",
     "text": [
      "[10.1 10.2 10.3 10.4 10.5 10.6 10.7 10.8 10.9 11.  11.1 11.2 11.3 11.4\n",
      " 11.5 11.6 11.7 11.8 11.9 12.  12.1 12.2 12.3 12.4 12.5 12.6 12.7 12.8\n",
      " 12.9 13.  13.1 13.2 13.3 13.4 13.5 13.6 13.7 13.8 13.9 14.  14.1 14.2\n",
      " 14.3 14.4 14.5 14.6 14.7 14.8 14.9 15.  15.1 15.2 15.3 15.4 15.5 15.6\n",
      " 15.7 15.8 15.9 16.  16.1 16.2 16.3 16.4 16.5 16.6 16.7 16.8 16.9 17.\n",
      " 17.1 17.2 17.3 17.4 17.5 17.6 17.7 17.8 17.9 18.  18.1 18.2 18.3 18.4\n",
      " 18.5 18.6 18.7 18.8 18.9 19.  19.1 19.2 19.3 19.4 19.5 19.6 19.7 19.8\n",
      " 19.9 20.  20.1]\n"
     ]
    },
    {
     "data": {
      "text/plain": [
       "<matplotlib.legend.Legend at 0x1fb3d901c70>"
      ]
     },
     "execution_count": 3,
     "metadata": {},
     "output_type": "execute_result"
    },
    {
     "data": {
      "image/png": "[encoded data removed]",
      "text/plain": [
       "<Figure size 360x360 with 1 Axes>"
      ]
     },
     "metadata": {
      "needs_background": "light"
     },
     "output_type": "display_data"
    }
   ],
   "source": [
    "(YY, TT) = paramforecast(param, times, n_test)\n",
    "\n",
    "print(TT)\n",
    "\n",
    "# figure 1: Ensemble Models MSE\n",
    "fig = plt.figure(figsize=(5, 5))\n",
    "fig.suptitle(\"Data\", fontsize=14)\n",
    "ax = plt.axes()\n",
    "ax.ticklabel_format(axis='both', style='sci', scilimits=(0,0), useOffset=False, useMathText=True, useLocale=True)\n",
    "ax.plot(times, param, \"k\", label='Train',alpha=0.4, **plot_kws)\n",
    "ax.plot(times_test, param_test, \"b\", label='Test',alpha=0.4, **plot_kws)\n",
    "ax.plot(TT, YY, \"r\", label='Fore',alpha=0.4, **plot_kws)\n",
    "ax.set_title('Function Eval')\n",
    "ax.set(xlabel=\"$Time~[s]$\", ylabel=\"$Param~[-]$\")\n",
    "ax.legend()"
   ]
  },
  {
   "cell_type": "code",
   "execution_count": 4,
   "id": "d98f1843",
   "metadata": {},
   "outputs": [
    {
     "name": "stdout",
     "output_type": "stream",
     "text": [
      "3\n",
      "4\n",
      "5\n",
      "6\n",
      "7\n",
      "8\n",
      "9\n",
      "10\n",
      "11\n",
      "12\n"
     ]
    }
   ],
   "source": [
    "for i in (np.arange(0,10,1)+3):\n",
    "    print(i)\n"
   ]
  }
 ],
 "metadata": {
  "kernelspec": {
   "display_name": "Python 3 (ipykernel)",
   "language": "python",
   "name": "python3"
  },
  "language_info": {
   "codemirror_mode": {
    "name": "ipython",
    "version": 3
   },
   "file_extension": ".py",
   "mimetype": "text/x-python",
   "name": "python",
   "nbconvert_exporter": "python",
   "pygments_lexer": "ipython3",
   "version": "3.9.7"
  }
 },
 "nbformat": 4,
 "nbformat_minor": 5
}
